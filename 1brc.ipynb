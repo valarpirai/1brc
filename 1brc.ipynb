{
 "cells": [
  {
   "cell_type": "code",
   "execution_count": 14,
   "id": "729dce3f-4dae-4da9-9ffe-2042f6caed77",
   "metadata": {},
   "outputs": [],
   "source": [
    "import pandas as pd\n",
    "import duckdb"
   ]
  },
  {
   "cell_type": "code",
   "execution_count": 23,
   "id": "c0aea17d-b537-48de-a91c-3bdae429313d",
   "metadata": {},
   "outputs": [],
   "source": [
    "def pandas_csv():\n",
    "    df = (\n",
    "        pd.read_csv(\"data/measurements.txt\", sep=\";\", header=None, names=[\"station_name\", \"measurement\"], engine=\"pyarrow\")\n",
    "            .groupby(\"station_name\")\n",
    "            .agg([\"min\", \"mean\", \"max\"])\n",
    "    )\n",
    "    df.columns = df.columns.get_level_values(level=1)\n",
    "    df = df.reset_index()\n",
    "    df.columns = [\"station_name\", \"min_measurement\", \"mean_measurement\", \"max_measurement\"]\n",
    "    df = df.sort_values(\"station_name\")\n",
    "\n",
    "    if PRINT != True:\n",
    "        return\n",
    "    print(\"{\", end=\"\")\n",
    "    for row in df.itertuples(index=False):\n",
    "        print(\n",
    "            f\"{row.station_name}={row.min_measurement:.1f}/{row.mean_measurement:.1f}/{row.max_measurement:.1f}\",\n",
    "            end=\", \"\n",
    "        )\n",
    "    print(\"\\b\\b} \")"
   ]
  },
  {
   "cell_type": "code",
   "execution_count": 24,
   "id": "05cc5830-b3a6-4fab-9e3a-bd26e7862c4a",
   "metadata": {},
   "outputs": [],
   "source": [
    "def pandas_parquet():\n",
    "    df = (\n",
    "        pd.read_parquet(\"data/measurements.parquet\", engine=\"pyarrow\")\n",
    "            .groupby(\"station_name\")\n",
    "            .agg([\"min\", \"mean\", \"max\"])\n",
    "    )\n",
    "    df.columns = df.columns.get_level_values(level=1)\n",
    "    df = df.reset_index()\n",
    "    df.columns = [\"station_name\", \"min_measurement\", \"mean_measurement\", \"max_measurement\"]\n",
    "    df = df.sort_values(\"station_name\")\n",
    "\n",
    "    if PRINT != True:\n",
    "        return\n",
    "    print(\"{\", end=\"\")\n",
    "    for row in df.itertuples(index=False):\n",
    "        print(\n",
    "            f\"{row.station_name}={row.min_measurement:.1f}/{row.mean_measurement:.1f}/{row.max_measurement:.1f}\",\n",
    "            end=\", \"\n",
    "        )\n",
    "    print(\"\\b\\b} \")"
   ]
  },
  {
   "cell_type": "code",
   "execution_count": 25,
   "id": "6e07aaea-2f14-4f2f-af69-2fa04955286e",
   "metadata": {},
   "outputs": [],
   "source": [
    "def duckdb_csv():\n",
    "    with duckdb.connect() as conn:\n",
    "        data = conn.sql(\"\"\"\n",
    "            select\n",
    "                station_name,\n",
    "                min(measurement) as min_measurement,\n",
    "                cast(avg(measurement) as decimal(8, 1)) as mean_measurement,\n",
    "                max(measurement) as max_measurement\n",
    "            from read_csv(\n",
    "                'data/measurements.txt',\n",
    "                header=false,\n",
    "                columns={'station_name': 'varchar', 'measurement': 'decimal(8, 1)'},\n",
    "                delim=';',\n",
    "                parallel=true\n",
    "            )\n",
    "            group by station_name\n",
    "            order by station_name\n",
    "        \"\"\")\n",
    "\n",
    "        if PRINT != True:\n",
    "            return\n",
    "        print(\"{\", end=\"\")\n",
    "        for row in sorted(data.fetchall()):\n",
    "            print(\n",
    "                f\"{row[0]}={row[1]}/{row[2]}/{row[3]}\",\n",
    "                end=\", \",\n",
    "            )\n",
    "        print(\"\\b\\b} \")"
   ]
  },
  {
   "cell_type": "code",
   "execution_count": 26,
   "id": "82ee1b50-2392-4709-a0b6-f67f19a0e264",
   "metadata": {},
   "outputs": [],
   "source": [
    "def process_file(file_name = \"data/measurements.txt\"):\n",
    "    result = dict()\n",
    "\n",
    "    with open(file_name, \"rb\") as f:\n",
    "        for line in f:\n",
    "            location, measurement = line.split(b\";\")\n",
    "            measurement = float(measurement)\n",
    "            if location not in result:\n",
    "                result[location] = [\n",
    "                    measurement,\n",
    "                    measurement,\n",
    "                    measurement,\n",
    "                    1,\n",
    "                ]\n",
    "            else:\n",
    "                _result = result[location]\n",
    "                if measurement < _result[0]:\n",
    "                    _result[0] = measurement\n",
    "                if measurement > _result[1]:\n",
    "                    _result[1] = measurement\n",
    "                _result[2] += measurement\n",
    "                _result[3] += 1\n",
    "\n",
    "    if PRINT != True:\n",
    "        return\n",
    "        \n",
    "    print(\"{\", end=\"\")\n",
    "    for location, measurements in sorted(result.items()):\n",
    "        print(\n",
    "            f\"{location.decode('utf8')}={measurements[0]:.1f}/{(measurements[2] / measurements[3]) if measurements[3] !=0 else 0:.1f}/{measurements[1]:.1f}\",\n",
    "            end=\", \",\n",
    "        )\n",
    "    print(\"\\b\\b} \")\n"
   ]
  },
  {
   "cell_type": "code",
   "execution_count": 33,
   "id": "cb3c6f76-7bd5-4eac-9877-f74a8abdb2bd",
   "metadata": {},
   "outputs": [
    {
     "name": "stdout",
     "output_type": "stream",
     "text": [
      "<function pandas_csv at 0x7be34dec1e40> ->  105.87263107299805 ms\n",
      "<function pandas_parquet at 0x7be34dec1ee0> ->  106.11891746520996 ms\n",
      "<function duckdb_csv at 0x7be34dec25c0> ->  21.648168563842773 ms\n",
      "<function process_file at 0x7be34dec22a0> ->  362.9734516143799 ms\n"
     ]
    }
   ],
   "source": [
    "import time\n",
    "\n",
    "PRINT = False\n",
    "def time_it(func):\n",
    "    start = time.time()\n",
    "    func()\n",
    "    print(str(func) + \" -> \", (time.time() - start) * 1000, \"ms\")\n",
    "\n",
    "time_it(pandas_csv)\n",
    "time_it(pandas_parquet)\n",
    "time_it(duckdb_csv)\n",
    "time_it(process_file)"
   ]
  },
  {
   "cell_type": "code",
   "execution_count": null,
   "id": "06e200bc-ccc7-4ff4-8235-87bcefcfff5d",
   "metadata": {},
   "outputs": [],
   "source": []
  }
 ],
 "metadata": {
  "kernelspec": {
   "display_name": "Python 3 (ipykernel)",
   "language": "python",
   "name": "python3"
  },
  "language_info": {
   "codemirror_mode": {
    "name": "ipython",
    "version": 3
   },
   "file_extension": ".py",
   "mimetype": "text/x-python",
   "name": "python",
   "nbconvert_exporter": "python",
   "pygments_lexer": "ipython3",
   "version": "3.12.3"
  }
 },
 "nbformat": 4,
 "nbformat_minor": 5
}
